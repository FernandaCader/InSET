{
 "cells": [
  {
   "cell_type": "markdown",
   "metadata": {},
   "source": [
    "# Análisis Exploratorio de Datos de diabetes.csv"
   ]
  },
  {
   "cell_type": "code",
   "execution_count": 100,
   "metadata": {},
   "outputs": [
    {
     "name": "stdout",
     "output_type": "stream",
     "text": [
      "Directorio actual: c:\\Users\\Fernanda\\Documents\\GitHub\\dataset_practico\n"
     ]
    }
   ],
   "source": [
    "# Importar las bibliotecas necesarias\n",
    "import pandas as pd\n",
    "\n",
    "# 1.1. Cargar el archivo en un dataframe Pandas.\n",
    "df = pd.read_csv(\"diabetes.csv\")\n",
    "\n",
    "# 1.2. Mostrar el directorio de trabajo donde se encuentra el archivo csv.\n",
    "import os\n",
    "current_directory = os.getcwd()\n",
    "print(\"Directorio actual:\", current_directory)\n"
   ]
  },
  {
   "cell_type": "code",
   "execution_count": 101,
   "metadata": {},
   "outputs": [
    {
     "name": "stdout",
     "output_type": "stream",
     "text": [
      "Dimensiones del dataframe: Filas = 768 , Columnas = 9\n"
     ]
    }
   ],
   "source": [
    "# 1.3. Mostrar las dimensiones del dataframe (cuantas filas y columnas tiene)\n",
    "num_filas, num_columnas = df.shape\n",
    "print(\"Dimensiones del dataframe: Filas =\", num_filas, \", Columnas =\", num_columnas)"
   ]
  },
  {
   "cell_type": "code",
   "execution_count": 102,
   "metadata": {},
   "outputs": [
    {
     "name": "stdout",
     "output_type": "stream",
     "text": [
      "Columnas del dataframe: Index(['Embarazos', 'Glucosa', 'Presión Arterial', 'GrosorDePliegueDelaPiel',\n",
      "       'InsulinaSéricaDe2HRS', 'ÍndiceDeMasaCorporal',\n",
      "       'FunciónDePedigríDeDiabetes', 'Edad', 'Clase'],\n",
      "      dtype='object')\n"
     ]
    }
   ],
   "source": [
    "# 1.4. Mostrar las columnas que posee el dataframe.\n",
    "columnas = df.columns\n",
    "print(\"Columnas del dataframe:\", columnas)"
   ]
  },
  {
   "cell_type": "code",
   "execution_count": 103,
   "metadata": {},
   "outputs": [
    {
     "name": "stdout",
     "output_type": "stream",
     "text": [
      "Primeras 10 filas del dataframe:\n",
      "    Embarazos  Glucosa  Presión Arterial  GrosorDePliegueDelaPiel  \\\n",
      "0          6      148                72                       35   \n",
      "1          1       85                66                       29   \n",
      "2          8      183                64                        0   \n",
      "3          1       89                66                       23   \n",
      "4          0      137                40                       35   \n",
      "5          5      116                74                        0   \n",
      "6          3       78                50                       32   \n",
      "7         10      115                 0                        0   \n",
      "8          2      197                70                       45   \n",
      "9          8      125                96                        0   \n",
      "\n",
      "   InsulinaSéricaDe2HRS  ÍndiceDeMasaCorporal  FunciónDePedigríDeDiabetes  \\\n",
      "0                     0                  33.6                       0.627   \n",
      "1                     0                  26.6                       0.351   \n",
      "2                     0                  23.3                       0.672   \n",
      "3                    94                  28.1                       0.167   \n",
      "4                   168                  43.1                       2.288   \n",
      "5                     0                  25.6                       0.201   \n",
      "6                    88                  31.0                       0.248   \n",
      "7                     0                  35.3                       0.134   \n",
      "8                   543                  30.5                       0.158   \n",
      "9                     0                   0.0                       0.232   \n",
      "\n",
      "   Edad  Clase  \n",
      "0    50      1  \n",
      "1    31      0  \n",
      "2    32      1  \n",
      "3    21      0  \n",
      "4    33      1  \n",
      "5    30      0  \n",
      "6    26      1  \n",
      "7    29      0  \n",
      "8    53      1  \n",
      "9    54      1  \n"
     ]
    }
   ],
   "source": [
    "# 1.5. Mostrar las 10 primeras filas del dataframe.\n",
    "primeras_10_filas = df.head(10)\n",
    "print(\"Primeras 10 filas del dataframe:\\n\", primeras_10_filas)"
   ]
  },
  {
   "cell_type": "code",
   "execution_count": 104,
   "metadata": {},
   "outputs": [
    {
     "name": "stdout",
     "output_type": "stream",
     "text": [
      "Valores únicos en la columna 'Embarazos': 17\n"
     ]
    }
   ],
   "source": [
    "# 1.6. Mostrar cuantos valores únicos hay en la columna “Embarazos”\n",
    "valores_unicos_embarazos = df[\"Embarazos\"].nunique()\n",
    "print(\"Valores únicos en la columna 'Embarazos':\", valores_unicos_embarazos)"
   ]
  },
  {
   "cell_type": "code",
   "execution_count": 105,
   "metadata": {},
   "outputs": [
    {
     "name": "stdout",
     "output_type": "stream",
     "text": [
      "Descripción estadística del dataframe:\n",
      "         Embarazos     Glucosa  Presión Arterial  GrosorDePliegueDelaPiel  \\\n",
      "count  768.000000  768.000000        768.000000               768.000000   \n",
      "mean     3.845052  120.894531         69.105469                20.536458   \n",
      "std      3.369578   31.972618         19.355807                15.952218   \n",
      "min      0.000000    0.000000          0.000000                 0.000000   \n",
      "25%      1.000000   99.000000         62.000000                 0.000000   \n",
      "50%      3.000000  117.000000         72.000000                23.000000   \n",
      "75%      6.000000  140.250000         80.000000                32.000000   \n",
      "max     17.000000  199.000000        122.000000                99.000000   \n",
      "\n",
      "       InsulinaSéricaDe2HRS  ÍndiceDeMasaCorporal  FunciónDePedigríDeDiabetes  \\\n",
      "count            768.000000            768.000000                  768.000000   \n",
      "mean              79.799479             31.992578                    0.471876   \n",
      "std              115.244002              7.884160                    0.331329   \n",
      "min                0.000000              0.000000                    0.078000   \n",
      "25%                0.000000             27.300000                    0.243750   \n",
      "50%               30.500000             32.000000                    0.372500   \n",
      "75%              127.250000             36.600000                    0.626250   \n",
      "max              846.000000             67.100000                    2.420000   \n",
      "\n",
      "             Edad       Clase  \n",
      "count  768.000000  768.000000  \n",
      "mean    33.240885    0.348958  \n",
      "std     11.760232    0.476951  \n",
      "min     21.000000    0.000000  \n",
      "25%     24.000000    0.000000  \n",
      "50%     29.000000    0.000000  \n",
      "75%     41.000000    1.000000  \n",
      "max     81.000000    1.000000  \n"
     ]
    }
   ],
   "source": [
    "# 1.7. Mostrar la descripción estadística del dataframe\n",
    "descripcion_estadistica = df.describe()\n",
    "print(\"Descripción estadística del dataframe:\\n\", descripcion_estadistica)"
   ]
  },
  {
   "cell_type": "code",
   "execution_count": 106,
   "metadata": {},
   "outputs": [
    {
     "name": "stdout",
     "output_type": "stream",
     "text": [
      "Valores nulos por columna:\n",
      " Embarazos                     0\n",
      "Glucosa                       0\n",
      "Presión Arterial              0\n",
      "GrosorDePliegueDelaPiel       0\n",
      "InsulinaSéricaDe2HRS          0\n",
      "ÍndiceDeMasaCorporal          0\n",
      "FunciónDePedigríDeDiabetes    0\n",
      "Edad                          0\n",
      "Clase                         0\n",
      "dtype: int64\n"
     ]
    }
   ],
   "source": [
    "# 1.8. Mostrar si existen valores nulos en el dataframe (para cada columna)\n",
    "valores_nulos = df.isnull().sum()\n",
    "print(\"Valores nulos por columna:\\n\", valores_nulos)"
   ]
  },
  {
   "cell_type": "code",
   "execution_count": 107,
   "metadata": {},
   "outputs": [
    {
     "name": "stdout",
     "output_type": "stream",
     "text": [
      "Tipos de datos por columna:\n",
      " Embarazos                       int64\n",
      "Glucosa                         int64\n",
      "Presión Arterial                int64\n",
      "GrosorDePliegueDelaPiel         int64\n",
      "InsulinaSéricaDe2HRS            int64\n",
      "ÍndiceDeMasaCorporal          float64\n",
      "FunciónDePedigríDeDiabetes    float64\n",
      "Edad                            int64\n",
      "Clase                           int64\n",
      "dtype: object\n"
     ]
    }
   ],
   "source": [
    "# 1.9. Mostrar los tipos de datos que posee el dataframe.\n",
    "tipos_de_datos = df.dtypes\n",
    "print(\"Tipos de datos por columna:\\n\", tipos_de_datos)"
   ]
  },
  {
   "cell_type": "code",
   "execution_count": 108,
   "metadata": {},
   "outputs": [
    {
     "name": "stdout",
     "output_type": "stream",
     "text": [
      "Media por clase:\n",
      "        Embarazos     Glucosa  Presión Arterial  GrosorDePliegueDelaPiel  \\\n",
      "Clase                                                                     \n",
      "0       3.298000  109.980000         68.184000                19.664000   \n",
      "1       4.865672  141.257463         70.824627                22.164179   \n",
      "\n",
      "       InsulinaSéricaDe2HRS  ÍndiceDeMasaCorporal  FunciónDePedigríDeDiabetes  \\\n",
      "Clase                                                                           \n",
      "0                 68.792000             30.304200                    0.429734   \n",
      "1                100.335821             35.142537                    0.550500   \n",
      "\n",
      "            Edad  \n",
      "Clase             \n",
      "0      31.190000  \n",
      "1      37.067164  \n"
     ]
    }
   ],
   "source": [
    "# 1.10. Agrupar por la columna “Clase” y calcular la media de cada clase.\n",
    "media_por_clase = df.groupby(\"Clase\").mean()\n",
    "print(\"Media por clase:\\n\", media_por_clase)"
   ]
  },
  {
   "cell_type": "code",
   "execution_count": 109,
   "metadata": {},
   "outputs": [
    {
     "data": {
      "image/png": "[encoded data removed]",
      "text/plain": [
       "<Figure size 640x480 with 1 Axes>"
      ]
     },
     "metadata": {},
     "output_type": "display_data"
    }
   ],
   "source": [
    "# 1.11. Graficar los datos obtenidos en el punto anterior.\n",
    "import matplotlib.pyplot as plt\n",
    "\n",
    "media_por_clase.plot(kind='bar')\n",
    "plt.title('Media por Clase')\n",
    "plt.xlabel('Clase')\n",
    "plt.ylabel('Media')\n",
    "plt.show()"
   ]
  },
  {
   "cell_type": "code",
   "execution_count": 110,
   "metadata": {},
   "outputs": [
    {
     "name": "stdout",
     "output_type": "stream",
     "text": [
      "Filas comprendidas entre la 3 y la 6:\n",
      "    Embarazos  Glucosa  Presión Arterial  GrosorDePliegueDelaPiel  \\\n",
      "2          8      183                64                        0   \n",
      "3          1       89                66                       23   \n",
      "4          0      137                40                       35   \n",
      "5          5      116                74                        0   \n",
      "\n",
      "   InsulinaSéricaDe2HRS  ÍndiceDeMasaCorporal  FunciónDePedigríDeDiabetes  \\\n",
      "2                     0                  23.3                       0.672   \n",
      "3                    94                  28.1                       0.167   \n",
      "4                   168                  43.1                       2.288   \n",
      "5                     0                  25.6                       0.201   \n",
      "\n",
      "   Edad  Clase  \n",
      "2    32      1  \n",
      "3    21      0  \n",
      "4    33      1  \n",
      "5    30      0  \n"
     ]
    }
   ],
   "source": [
    "# 1.12. Obtener las filas comprendidas entre la 3 y la 6\n",
    "filas_3_a_6 = df.iloc[2:6]\n",
    "print(\"Filas comprendidas entre la 3 y la 6:\\n\", filas_3_a_6)"
   ]
  },
  {
   "cell_type": "code",
   "execution_count": 111,
   "metadata": {},
   "outputs": [
    {
     "name": "stdout",
     "output_type": "stream",
     "text": [
      "Filas 0 y 1:\n",
      "    Embarazos  Glucosa  Presión Arterial  GrosorDePliegueDelaPiel  \\\n",
      "0          6      148                72                       35   \n",
      "1          1       85                66                       29   \n",
      "\n",
      "   InsulinaSéricaDe2HRS  ÍndiceDeMasaCorporal  FunciónDePedigríDeDiabetes  \\\n",
      "0                     0                  33.6                       0.627   \n",
      "1                     0                  26.6                       0.351   \n",
      "\n",
      "   Edad  Clase  \n",
      "0    50      1  \n",
      "1    31      0  \n"
     ]
    }
   ],
   "source": [
    "# 1.13. Obtener las filas 0 y 1.\n",
    "filas_0_y_1 = df.iloc[0:2]\n",
    "print(\"Filas 0 y 1:\\n\", filas_0_y_1)"
   ]
  },
  {
   "cell_type": "code",
   "execution_count": 112,
   "metadata": {},
   "outputs": [
    {
     "name": "stdout",
     "output_type": "stream",
     "text": [
      "Filas 4 y 5, columnas 'Presión Arterial' e 'ÍndiceDeMasaCorporal':\n",
      "    Presión Arterial  ÍndiceDeMasaCorporal\n",
      "4                40                  43.1\n",
      "5                74                  25.6\n"
     ]
    }
   ],
   "source": [
    "# Obtener las filas 4 y 5 mostrando solo las columnas \"Presión Arterial\" y \"Índice de masa corporal\"\n",
    "filas_4_y_5_columnas = df.loc[4:5, [\"Presión Arterial\", \"ÍndiceDeMasaCorporal\"]]\n",
    "print(\"Filas 4 y 5, columnas 'Presión Arterial' e 'ÍndiceDeMasaCorporal':\\n\", filas_4_y_5_columnas)\n"
   ]
  },
  {
   "cell_type": "code",
   "execution_count": 113,
   "metadata": {},
   "outputs": [
    {
     "name": "stdout",
     "output_type": "stream",
     "text": [
      "Filas 1, 3 y 5:\n",
      "    Embarazos  Glucosa  Presión Arterial  GrosorDePliegueDelaPiel  \\\n",
      "0          6      148                72                       35   \n",
      "2          8      183                64                        0   \n",
      "4          0      137                40                       35   \n",
      "\n",
      "   InsulinaSéricaDe2HRS  ÍndiceDeMasaCorporal  FunciónDePedigríDeDiabetes  \\\n",
      "0                     0                  33.6                       0.627   \n",
      "2                     0                  23.3                       0.672   \n",
      "4                   168                  43.1                       2.288   \n",
      "\n",
      "   Edad  Clase  \n",
      "0    50      1  \n",
      "2    32      1  \n",
      "4    33      1  \n"
     ]
    }
   ],
   "source": [
    "# 1.15. Mostrar la primer, tercera y quinta fila.\n",
    "filas_1_3_5 = df.iloc[[0, 2, 4]]\n",
    "print(\"Filas 1, 3 y 5:\\n\", filas_1_3_5)"
   ]
  },
  {
   "cell_type": "code",
   "execution_count": 114,
   "metadata": {},
   "outputs": [
    {
     "name": "stdout",
     "output_type": "stream",
     "text": [
      "Filas con edad igual a 30:\n",
      "      Embarazos  Glucosa  Presión Arterial  GrosorDePliegueDelaPiel  \\\n",
      "5            5      116                74                        0   \n",
      "10           4      110                92                        0   \n",
      "52           5       88                66                       21   \n",
      "126          3      120                70                       30   \n",
      "132          3      170                64                       37   \n",
      "256          3      111                56                       39   \n",
      "300          0      167                 0                        0   \n",
      "309          2      124                68                       28   \n",
      "316          3       99                80                       11   \n",
      "326          1      122                64                       32   \n",
      "351          4      137                84                        0   \n",
      "364          4      147                74                       25   \n",
      "365          5       99                54                       28   \n",
      "444          4      117                62                       12   \n",
      "496          5      110                68                        0   \n",
      "556          1       97                70                       40   \n",
      "602          1      124                74                       36   \n",
      "616          6      117                96                        0   \n",
      "645          2      157                74                       35   \n",
      "706         10      115                 0                        0   \n",
      "765          5      121                72                       23   \n",
      "\n",
      "     InsulinaSéricaDe2HRS  ÍndiceDeMasaCorporal  FunciónDePedigríDeDiabetes  \\\n",
      "5                       0                  25.6                       0.201   \n",
      "10                      0                  37.6                       0.191   \n",
      "52                     23                  24.4                       0.342   \n",
      "126                   135                  42.9                       0.452   \n",
      "132                   225                  34.5                       0.356   \n",
      "256                     0                  30.1                       0.557   \n",
      "300                     0                  32.3                       0.839   \n",
      "309                   205                  32.9                       0.875   \n",
      "316                    64                  19.3                       0.284   \n",
      "326                   156                  35.1                       0.692   \n",
      "351                     0                  31.2                       0.252   \n",
      "364                   293                  34.9                       0.385   \n",
      "365                    83                  34.0                       0.499   \n",
      "444                     0                  29.7                       0.380   \n",
      "496                     0                  26.0                       0.292   \n",
      "556                     0                  38.1                       0.218   \n",
      "602                     0                  27.8                       0.100   \n",
      "616                     0                  28.7                       0.157   \n",
      "645                   440                  39.4                       0.134   \n",
      "706                     0                   0.0                       0.261   \n",
      "765                   112                  26.2                       0.245   \n",
      "\n",
      "     Edad  Clase  \n",
      "5      30      0  \n",
      "10     30      0  \n",
      "52     30      0  \n",
      "126    30      0  \n",
      "132    30      1  \n",
      "256    30      0  \n",
      "300    30      1  \n",
      "309    30      1  \n",
      "316    30      0  \n",
      "326    30      1  \n",
      "351    30      0  \n",
      "364    30      0  \n",
      "365    30      0  \n",
      "444    30      1  \n",
      "496    30      0  \n",
      "556    30      0  \n",
      "602    30      0  \n",
      "616    30      0  \n",
      "645    30      0  \n",
      "706    30      1  \n",
      "765    30      0  \n"
     ]
    }
   ],
   "source": [
    "# 1.16. Filtrar a solo las filas cuya edad sea igual a 30.\n",
    "filas_edad_30 = df[df[\"Edad\"] == 30]\n",
    "print(\"Filas con edad igual a 30:\\n\", filas_edad_30)"
   ]
  }
 ],
 "metadata": {
  "kernelspec": {
   "display_name": "Python 3",
   "language": "python",
   "name": "python3"
  },
  "language_info": {
   "codemirror_mode": {
    "name": "ipython",
    "version": 3
   },
   "file_extension": ".py",
   "mimetype": "text/x-python",
   "name": "python",
   "nbconvert_exporter": "python",
   "pygments_lexer": "ipython3",
   "version": "3.11.5"
  },
  "orig_nbformat": 4
 },
 "nbformat": 4,
 "nbformat_minor": 2
}
