{
 "cells": [
  {
   "cell_type": "markdown",
   "metadata": {},
   "source": [
    "# ANA03 - TP Ejercicios Introducción a OpenCV II\n",
    "\n",
    "Autor: Cader Fernanda\n",
    "\n",
    "1.- Se pide:\n",
    "\n",
    "- Genere una imagen de 150x150 pixeles de color rojo.\n",
    "\n",
    "- Cambie el color 5 pixeles (al azar) a color blanco.\n",
    "\n",
    "- Cambie el color de la imagen por un color a elección. Los pixeles de color blanco deben quedar en ese color.\n",
    "\n",
    "- Visualice las dos imagenes.\n",
    "\n",
    "- Guarde ambas imagenes: la primer con el nombre 'imagenRoja.png', la segunda con el nombre 'imagenNuevoColor.png'."
   ]
  },
  {
   "cell_type": "code",
   "execution_count": 152,
   "metadata": {
    "metadata": {}
   },
   "outputs": [
    {
     "name": "stdout",
     "output_type": "stream",
     "text": [
      "Tipo de dato de la variable imagen_roja: <class 'numpy.ndarray'>\n",
      "Contenido de la variable imagen_roja [[[  0   0 255]\n",
      "  [  0   0 255]\n",
      "  [  0   0 255]\n",
      "  ...\n",
      "  [  0   0 255]\n",
      "  [  0   0 255]\n",
      "  [  0   0 255]]\n",
      "\n",
      " [[  0   0 255]\n",
      "  [  0   0 255]\n",
      "  [  0   0 255]\n",
      "  ...\n",
      "  [  0   0 255]\n",
      "  [  0   0 255]\n",
      "  [  0   0 255]]\n",
      "\n",
      " [[  0   0 255]\n",
      "  [  0   0 255]\n",
      "  [  0   0 255]\n",
      "  ...\n",
      "  [  0   0 255]\n",
      "  [  0   0 255]\n",
      "  [  0   0 255]]\n",
      "\n",
      " ...\n",
      "\n",
      " [[  0   0 255]\n",
      "  [  0   0 255]\n",
      "  [  0   0 255]\n",
      "  ...\n",
      "  [  0   0 255]\n",
      "  [  0   0 255]\n",
      "  [  0   0 255]]\n",
      "\n",
      " [[  0   0 255]\n",
      "  [  0   0 255]\n",
      "  [  0   0 255]\n",
      "  ...\n",
      "  [  0   0 255]\n",
      "  [  0   0 255]\n",
      "  [  0   0 255]]\n",
      "\n",
      " [[  0   0 255]\n",
      "  [  0   0 255]\n",
      "  [  0   0 255]\n",
      "  ...\n",
      "  [  0   0 255]\n",
      "  [  0   0 255]\n",
      "  [  0   0 255]]]\n"
     ]
    }
   ],
   "source": [
    "import numpy as np\n",
    "import cv2\n",
    "\n",
    "# Generamos una imagen roja de 150x150 píxeles\n",
    "imagen_roja = np.zeros((150, 150, 3), np.uint8)\n",
    "#Asignamos el color rojo a todos los píxeles de la imagen\n",
    "imagen_roja[:] = (0, 0, 255)  # Rojo: BGR = (0, 0, 255)\n",
    "\n",
    "print(\"Tipo de dato de la variable imagen_roja:\",type(imagen_roja))\n",
    "print(\"Contenido de la variable imagen_roja\",imagen_roja)"
   ]
  },
  {
   "cell_type": "code",
   "execution_count": 153,
   "metadata": {
    "metadata": {}
   },
   "outputs": [],
   "source": [
    "# Cambiamos el color de 5 píxeles a blanco\n",
    "for _ in range(5):\n",
    "    x = np.random.randint(0, 150)\n",
    "    y = np.random.randint(0, 150)\n",
    "    imagen_roja[y, x] = (255, 255, 255)  # Blanco: BGR = (255, 255, 255)"
   ]
  },
  {
   "cell_type": "code",
   "execution_count": 154,
   "metadata": {
    "metadata": {}
   },
   "outputs": [],
   "source": [
    "# Generamos una imagen azul de 150x150 píxeles\n",
    "imagen_azul = np.zeros((150, 150, 3), np.uint8)\n",
    "\n",
    "#Asignamos el color azul a todos los píxeles de la imagen\n",
    "imagen_azul[:] = (255, 0, 0)"
   ]
  },
  {
   "cell_type": "code",
   "execution_count": 155,
   "metadata": {
    "metadata": {}
   },
   "outputs": [],
   "source": [
    "# Cambiamos el color de 5 píxeles a blanco\n",
    "for _ in range(5):\n",
    "    x = np.random.randint(0, 150)\n",
    "    y = np.random.randint(0, 150)\n",
    "    imagen_azul[y, x] = (255, 255, 255)"
   ]
  },
  {
   "cell_type": "code",
   "execution_count": 156,
   "metadata": {
    "metadata": {}
   },
   "outputs": [],
   "source": [
    "# Mostrar las imágenes\n",
    "cv2.imshow(\"Imagen Roja\", imagen_roja)\n",
    "cv2.imshow(\"Imagen Azul\", imagen_azul)\n",
    "cv2.waitKey(0)\n",
    "cv2.destroyAllWindows()"
   ]
  },
  {
   "cell_type": "code",
   "execution_count": 157,
   "metadata": {
    "metadata": {}
   },
   "outputs": [
    {
     "data": {
      "text/plain": [
       "True"
      ]
     },
     "execution_count": 157,
     "metadata": {},
     "output_type": "execute_result"
    }
   ],
   "source": [
    "# Guardar las imágenes\n",
    "cv2.imwrite(\"imagenRoja.png\", imagen_roja)\n",
    "cv2.imwrite(\"imagenNuevoColor.png\", imagen_azul)"
   ]
  },
  {
   "cell_type": "markdown",
   "metadata": {},
   "source": [
    "2.- Se pide:\n",
    "\n",
    "- Genere una imagen de 600x1000 pixeles.\n",
    "\n",
    "- Divida la imagen en rectangulos de 100x200 pixeles.\n",
    "\n",
    "- Replique el código del ejemplo y añada mas colores y texto si necesita."
   ]
  },
  {
   "cell_type": "code",
   "execution_count": 158,
   "metadata": {
    "metadata": {}
   },
   "outputs": [],
   "source": [
    "#Crearé una imagen de 600x1000 pixeles, con 3 canales de color (RGB) de 8 bits y lo rellenamos de ceros\n",
    "from numpy import dtype\n",
    "\n",
    "big = np.zeros((600,1000,3),dtype=np.uint8)\n",
    "\n",
    "#Seleccionamos una fuente elegante\n",
    "\n",
    "font = cv2.FONT_ITALIC"
   ]
  },
  {
   "cell_type": "markdown",
   "metadata": {},
   "source": [
    "Generaré un abanico de colores amplio"
   ]
  },
  {
   "cell_type": "code",
   "execution_count": 159,
   "metadata": {
    "metadata": {}
   },
   "outputs": [
    {
     "data": {
      "text/plain": [
       "array([[[255,   0,   0],\n",
       "        [255,   0,   0],\n",
       "        [255,   0,   0],\n",
       "        ...,\n",
       "        [255, 255,   0],\n",
       "        [255, 255,   0],\n",
       "        [255, 255,   0]],\n",
       "\n",
       "       [[255,   0,   0],\n",
       "        [255,   0,   0],\n",
       "        [255,   0,   0],\n",
       "        ...,\n",
       "        [255, 255,   0],\n",
       "        [255, 255,   0],\n",
       "        [255, 255,   0]],\n",
       "\n",
       "       [[255,   0,   0],\n",
       "        [255,   0,   0],\n",
       "        [255,   0,   0],\n",
       "        ...,\n",
       "        [255, 255,   0],\n",
       "        [255, 255,   0],\n",
       "        [255, 255,   0]],\n",
       "\n",
       "       ...,\n",
       "\n",
       "       [[  0,   0,   0],\n",
       "        [  0,   0,   0],\n",
       "        [  0,   0,   0],\n",
       "        ...,\n",
       "        [  0,   0,   0],\n",
       "        [  0,   0,   0],\n",
       "        [  0,   0,   0]],\n",
       "\n",
       "       [[  0,   0,   0],\n",
       "        [  0,   0,   0],\n",
       "        [  0,   0,   0],\n",
       "        ...,\n",
       "        [  0,   0,   0],\n",
       "        [  0,   0,   0],\n",
       "        [  0,   0,   0]],\n",
       "\n",
       "       [[  0,   0,   0],\n",
       "        [  0,   0,   0],\n",
       "        [  0,   0,   0],\n",
       "        ...,\n",
       "        [  0,   0,   0],\n",
       "        [  0,   0,   0],\n",
       "        [  0,   0,   0]]], dtype=uint8)"
      ]
     },
     "execution_count": 159,
     "metadata": {},
     "output_type": "execute_result"
    }
   ],
   "source": [
    "# Dibujar rectángulos de diferentes colores\n",
    "big[:100, :200] = (255, 0, 0)      # Azul\n",
    "big[:100, 200:400] = (0, 165, 255)  # Naranja\n",
    "big[:100, 400:600] = (0, 0, 255)    # Rojo\n",
    "big[:100, 600:800] = (0, 255, 0)    # Verde\n",
    "big[:100, 800:1000] = (255, 255, 0) # Cyan\n",
    "\n",
    "# Agregar texto a la imagen\n",
    "cv2.putText(big, 'Azul', (5, 55), font, 0.5, (255, 255, 255), 1, cv2.LINE_AA)\n",
    "cv2.putText(big, 'Naranja', (220, 55), font, 0.5, (255, 255, 255), 1, cv2.LINE_AA)\n",
    "cv2.putText(big, 'Rojo', (440, 55), font, 0.5, (255, 255, 255), 1, cv2.LINE_AA)\n",
    "cv2.putText(big, 'Verde', (640, 55), font, 0.5, (255, 255, 255), 1, cv2.LINE_AA)\n",
    "cv2.putText(big, 'Cyan', (840, 55), font, 0.5, (255, 255, 255), 1, cv2.LINE_AA)\n"
   ]
  },
  {
   "cell_type": "code",
   "execution_count": 160,
   "metadata": {
    "metadata": {}
   },
   "outputs": [
    {
     "data": {
      "text/plain": [
       "array([[[255,   0,   0],\n",
       "        [255,   0,   0],\n",
       "        [255,   0,   0],\n",
       "        ...,\n",
       "        [255, 255,   0],\n",
       "        [255, 255,   0],\n",
       "        [255, 255,   0]],\n",
       "\n",
       "       [[255,   0,   0],\n",
       "        [255,   0,   0],\n",
       "        [255,   0,   0],\n",
       "        ...,\n",
       "        [255, 255,   0],\n",
       "        [255, 255,   0],\n",
       "        [255, 255,   0]],\n",
       "\n",
       "       [[255,   0,   0],\n",
       "        [255,   0,   0],\n",
       "        [255,   0,   0],\n",
       "        ...,\n",
       "        [255, 255,   0],\n",
       "        [255, 255,   0],\n",
       "        [255, 255,   0]],\n",
       "\n",
       "       ...,\n",
       "\n",
       "       [[  0,   0,   0],\n",
       "        [  0,   0,   0],\n",
       "        [  0,   0,   0],\n",
       "        ...,\n",
       "        [  0,   0,   0],\n",
       "        [  0,   0,   0],\n",
       "        [  0,   0,   0]],\n",
       "\n",
       "       [[  0,   0,   0],\n",
       "        [  0,   0,   0],\n",
       "        [  0,   0,   0],\n",
       "        ...,\n",
       "        [  0,   0,   0],\n",
       "        [  0,   0,   0],\n",
       "        [  0,   0,   0]],\n",
       "\n",
       "       [[  0,   0,   0],\n",
       "        [  0,   0,   0],\n",
       "        [  0,   0,   0],\n",
       "        ...,\n",
       "        [  0,   0,   0],\n",
       "        [  0,   0,   0],\n",
       "        [  0,   0,   0]]], dtype=uint8)"
      ]
     },
     "execution_count": 160,
     "metadata": {},
     "output_type": "execute_result"
    }
   ],
   "source": [
    "# Repetir el dibujo de rectángulos con diferentes colores para completar la imagen\n",
    "big[100:200, :200] = (128, 0, 128)      # Púrpura\n",
    "big[100:200, 200:400] = (255, 140, 0)   # Celeste\n",
    "big[100:200, 400:600] = (139, 0, 139)   # Violeta\n",
    "big[100:200, 600:800] = (255, 192, 203) # Rosa claro\n",
    "big[100:200, 800:1000] = (0, 128, 128)  # Verde amarillento\n",
    "\n",
    "# Agregar más texto a la imagen\n",
    "cv2.putText(big, 'Purpura', (5, 155), font, 0.5, (255, 255, 255), 1, cv2.LINE_AA)\n",
    "cv2.putText(big, 'Celeste', (220, 155), font, 0.5, (255, 255, 255), 1, cv2.LINE_AA)\n",
    "cv2.putText(big, 'Violeta', (440, 155), font, 0.5, (255, 255, 255), 1, cv2.LINE_AA)\n",
    "cv2.putText(big, 'Rosa claro', (640, 155), font, 0.5, (255, 255, 255), 1, cv2.LINE_AA)\n",
    "cv2.putText(big, 'Verde amarillento', (840, 155), font, 0.5, (255, 255, 255), 1, cv2.LINE_AA)"
   ]
  },
  {
   "cell_type": "code",
   "execution_count": 161,
   "metadata": {
    "metadata": {}
   },
   "outputs": [
    {
     "data": {
      "text/plain": [
       "array([[[255,   0,   0],\n",
       "        [255,   0,   0],\n",
       "        [255,   0,   0],\n",
       "        ...,\n",
       "        [255, 255,   0],\n",
       "        [255, 255,   0],\n",
       "        [255, 255,   0]],\n",
       "\n",
       "       [[255,   0,   0],\n",
       "        [255,   0,   0],\n",
       "        [255,   0,   0],\n",
       "        ...,\n",
       "        [255, 255,   0],\n",
       "        [255, 255,   0],\n",
       "        [255, 255,   0]],\n",
       "\n",
       "       [[255,   0,   0],\n",
       "        [255,   0,   0],\n",
       "        [255,   0,   0],\n",
       "        ...,\n",
       "        [255, 255,   0],\n",
       "        [255, 255,   0],\n",
       "        [255, 255,   0]],\n",
       "\n",
       "       ...,\n",
       "\n",
       "       [[  0,   0,   0],\n",
       "        [  0,   0,   0],\n",
       "        [  0,   0,   0],\n",
       "        ...,\n",
       "        [  0,   0,   0],\n",
       "        [  0,   0,   0],\n",
       "        [  0,   0,   0]],\n",
       "\n",
       "       [[  0,   0,   0],\n",
       "        [  0,   0,   0],\n",
       "        [  0,   0,   0],\n",
       "        ...,\n",
       "        [  0,   0,   0],\n",
       "        [  0,   0,   0],\n",
       "        [  0,   0,   0]],\n",
       "\n",
       "       [[  0,   0,   0],\n",
       "        [  0,   0,   0],\n",
       "        [  0,   0,   0],\n",
       "        ...,\n",
       "        [  0,   0,   0],\n",
       "        [  0,   0,   0],\n",
       "        [  0,   0,   0]]], dtype=uint8)"
      ]
     },
     "execution_count": 161,
     "metadata": {},
     "output_type": "execute_result"
    }
   ],
   "source": [
    "# Repetir el dibujo de rectángulos con diferentes colores para completar la imagen\n",
    "big[200:300, :200] = (255, 0, 255)      \n",
    "big[200:300, 200:400] = (128, 128, 0)   \n",
    "big[200:300, 400:600] = (128, 0, 0)     \n",
    "big[200:300, 600:800] = (128, 128, 128) \n",
    "big[200:300, 800:1000] = (0, 255, 255)  \n",
    "\n",
    "cv2.putText(big, 'Magenta', (5, 255), font, 0.5, (255, 255, 255), 1, cv2.LINE_AA)\n",
    "cv2.putText(big, 'Turquesa', (220, 255), font, 0.5, (255, 255, 255), 1, cv2.LINE_AA)\n",
    "cv2.putText(big, 'Azul oscuro', (440, 255), font, 0.5, (255, 255, 255), 1, cv2.LINE_AA)\n",
    "cv2.putText(big, 'Gris', (640, 255), font, 0.5, (255, 255, 255), 1, cv2.LINE_AA)\n",
    "cv2.putText(big, 'Amarillo', (840, 255), font, 0.5, (0, 0, 0), 1, cv2.LINE_AA)"
   ]
  },
  {
   "cell_type": "code",
   "execution_count": 162,
   "metadata": {
    "metadata": {}
   },
   "outputs": [
    {
     "data": {
      "text/plain": [
       "array([[[255,   0,   0],\n",
       "        [255,   0,   0],\n",
       "        [255,   0,   0],\n",
       "        ...,\n",
       "        [255, 255,   0],\n",
       "        [255, 255,   0],\n",
       "        [255, 255,   0]],\n",
       "\n",
       "       [[255,   0,   0],\n",
       "        [255,   0,   0],\n",
       "        [255,   0,   0],\n",
       "        ...,\n",
       "        [255, 255,   0],\n",
       "        [255, 255,   0],\n",
       "        [255, 255,   0]],\n",
       "\n",
       "       [[255,   0,   0],\n",
       "        [255,   0,   0],\n",
       "        [255,   0,   0],\n",
       "        ...,\n",
       "        [255, 255,   0],\n",
       "        [255, 255,   0],\n",
       "        [255, 255,   0]],\n",
       "\n",
       "       ...,\n",
       "\n",
       "       [[  0,   0,   0],\n",
       "        [  0,   0,   0],\n",
       "        [  0,   0,   0],\n",
       "        ...,\n",
       "        [  0,   0,   0],\n",
       "        [  0,   0,   0],\n",
       "        [  0,   0,   0]],\n",
       "\n",
       "       [[  0,   0,   0],\n",
       "        [  0,   0,   0],\n",
       "        [  0,   0,   0],\n",
       "        ...,\n",
       "        [  0,   0,   0],\n",
       "        [  0,   0,   0],\n",
       "        [  0,   0,   0]],\n",
       "\n",
       "       [[  0,   0,   0],\n",
       "        [  0,   0,   0],\n",
       "        [  0,   0,   0],\n",
       "        ...,\n",
       "        [  0,   0,   0],\n",
       "        [  0,   0,   0],\n",
       "        [  0,   0,   0]]], dtype=uint8)"
      ]
     },
     "execution_count": 162,
     "metadata": {},
     "output_type": "execute_result"
    }
   ],
   "source": [
    "big[300:400, :200] = (0, 0, 128)       \n",
    "big[300:400, 200:400] = (128, 0, 255)  \n",
    "big[300:400, 400:600] = (0, 128, 0)   \n",
    "big[300:400, 600:800] = (255, 0, 128)  \n",
    "big[300:400, 800:1000] = (0, 255, 128) \n",
    "\n",
    "cv2.putText(big, 'Bordo', (5, 355), font, 0.5, (255, 255, 255), 1, cv2.LINE_AA)\n",
    "cv2.putText(big, 'Rosa Barbie', (220, 355), font, 0.5, (255, 255, 255), 1, cv2.LINE_AA)\n",
    "cv2.putText(big, 'Verde oscuro', (440, 355), font, 0.5, (255, 255, 255), 1, cv2.LINE_AA)\n",
    "cv2.putText(big, 'Violeta fuerte', (640, 355), font, 0.5, (255, 255, 255), 1, cv2.LINE_AA)\n",
    "cv2.putText(big, 'Verde lima', (840, 355), font, 0.5, (255, 255, 255), 1, cv2.LINE_AA)"
   ]
  },
  {
   "cell_type": "code",
   "execution_count": 163,
   "metadata": {
    "metadata": {}
   },
   "outputs": [
    {
     "data": {
      "text/plain": [
       "array([[[255,   0,   0],\n",
       "        [255,   0,   0],\n",
       "        [255,   0,   0],\n",
       "        ...,\n",
       "        [255, 255,   0],\n",
       "        [255, 255,   0],\n",
       "        [255, 255,   0]],\n",
       "\n",
       "       [[255,   0,   0],\n",
       "        [255,   0,   0],\n",
       "        [255,   0,   0],\n",
       "        ...,\n",
       "        [255, 255,   0],\n",
       "        [255, 255,   0],\n",
       "        [255, 255,   0]],\n",
       "\n",
       "       [[255,   0,   0],\n",
       "        [255,   0,   0],\n",
       "        [255,   0,   0],\n",
       "        ...,\n",
       "        [255, 255,   0],\n",
       "        [255, 255,   0],\n",
       "        [255, 255,   0]],\n",
       "\n",
       "       ...,\n",
       "\n",
       "       [[  0,   0,   0],\n",
       "        [  0,   0,   0],\n",
       "        [  0,   0,   0],\n",
       "        ...,\n",
       "        [  0,   0,   0],\n",
       "        [  0,   0,   0],\n",
       "        [  0,   0,   0]],\n",
       "\n",
       "       [[  0,   0,   0],\n",
       "        [  0,   0,   0],\n",
       "        [  0,   0,   0],\n",
       "        ...,\n",
       "        [  0,   0,   0],\n",
       "        [  0,   0,   0],\n",
       "        [  0,   0,   0]],\n",
       "\n",
       "       [[  0,   0,   0],\n",
       "        [  0,   0,   0],\n",
       "        [  0,   0,   0],\n",
       "        ...,\n",
       "        [  0,   0,   0],\n",
       "        [  0,   0,   0],\n",
       "        [  0,   0,   0]]], dtype=uint8)"
      ]
     },
     "execution_count": 163,
     "metadata": {},
     "output_type": "execute_result"
    }
   ],
   "source": [
    "# Repetir el proceso con colores diferentes\n",
    "big[400:500, :200] = (95, 0, 0)       #Azul medianoche\n",
    "big[400:500, 200:400] = (0, 100, 0)    # Verde mas oscuro\n",
    "big[400:500, 400:600] = (0, 0, 128)    # Rojo mas oscuro\n",
    "big[400:500, 600:800] = (128, 0, 110)  # Púrpura\n",
    "big[400:500, 800:1000] = (255, 165, 0) # Océano\n",
    "\n",
    "# Agregar más texto a la imagen\n",
    "cv2.putText(big, 'Azul medianoche', (5, 455), font, 0.5, (255, 255, 255), 1, cv2.LINE_AA)\n",
    "cv2.putText(big, 'Verde mas oscuro', (220, 455), font, 0.5, (255, 255, 255), 1, cv2.LINE_AA)\n",
    "cv2.putText(big, 'Rojo mas oscuro', (440, 455), font, 0.5, (255, 255, 255), 1, cv2.LINE_AA)\n",
    "cv2.putText(big, 'Purpura', (640, 455), font, 0.5, (255, 255, 255), 1, cv2.LINE_AA)\n",
    "cv2.putText(big, 'Oceano', (840, 455), font, 0.5, (255, 255, 255), 1, cv2.LINE_AA)"
   ]
  },
  {
   "cell_type": "code",
   "execution_count": 164,
   "metadata": {
    "metadata": {}
   },
   "outputs": [
    {
     "data": {
      "text/plain": [
       "array([[[255,   0,   0],\n",
       "        [255,   0,   0],\n",
       "        [255,   0,   0],\n",
       "        ...,\n",
       "        [255, 255,   0],\n",
       "        [255, 255,   0],\n",
       "        [255, 255,   0]],\n",
       "\n",
       "       [[255,   0,   0],\n",
       "        [255,   0,   0],\n",
       "        [255,   0,   0],\n",
       "        ...,\n",
       "        [255, 255,   0],\n",
       "        [255, 255,   0],\n",
       "        [255, 255,   0]],\n",
       "\n",
       "       [[255,   0,   0],\n",
       "        [255,   0,   0],\n",
       "        [255,   0,   0],\n",
       "        ...,\n",
       "        [255, 255,   0],\n",
       "        [255, 255,   0],\n",
       "        [255, 255,   0]],\n",
       "\n",
       "       ...,\n",
       "\n",
       "       [[255, 255, 255],\n",
       "        [255, 255, 255],\n",
       "        [255, 255, 255],\n",
       "        ...,\n",
       "        [  0,   0,   0],\n",
       "        [  0,   0,   0],\n",
       "        [  0,   0,   0]],\n",
       "\n",
       "       [[255, 255, 255],\n",
       "        [255, 255, 255],\n",
       "        [255, 255, 255],\n",
       "        ...,\n",
       "        [  0,   0,   0],\n",
       "        [  0,   0,   0],\n",
       "        [  0,   0,   0]],\n",
       "\n",
       "       [[255, 255, 255],\n",
       "        [255, 255, 255],\n",
       "        [255, 255, 255],\n",
       "        ...,\n",
       "        [  0,   0,   0],\n",
       "        [  0,   0,   0],\n",
       "        [  0,   0,   0]]], dtype=uint8)"
      ]
     },
     "execution_count": 164,
     "metadata": {},
     "output_type": "execute_result"
    }
   ],
   "source": [
    "# Repetir el proceso con colores diferentes\n",
    "big[500:600, :200] = (255, 255, 255) # Blanco\n",
    "big[500:600, 200:400] = (128, 128, 128) # Gris\n",
    "big[500:600, 400:600] = (0, 255, 255) # Amarillo\n",
    "big[500:600, 600:800] = (255, 0, 255) # Magenta\n",
    "big[500:600, 800:1000] = (0, 0, 0) # Negro\n",
    "\n",
    "# Agregar más texto a la imagen\n",
    "cv2.putText(big, 'Blanco', (5, 555), font, 0.5, (0, 0, 0), 1, cv2.LINE_AA)\n",
    "cv2.putText(big, 'Gris', (220, 555), font, 0.5, (255, 255, 255), 1, cv2.LINE_AA)\n",
    "cv2.putText(big, 'Amarillo', (440, 555), font, 0.5, (0, 0, 0), 1, cv2.LINE_AA)\n",
    "cv2.putText(big, 'Magenta', (640, 555), font, 0.5, (255, 255, 255), 1, cv2.LINE_AA)\n",
    "cv2.putText(big, 'Negro', (840, 555), font, 0.5, (255, 255, 255), 1, cv2.LINE_AA)"
   ]
  },
  {
   "cell_type": "code",
   "execution_count": 165,
   "metadata": {
    "metadata": {}
   },
   "outputs": [],
   "source": [
    "cv2.imshow('previsualizacion', big)\n",
    "cv2.waitKey(0)\n",
    "cv2.destroyAllWindows()"
   ]
  },
  {
   "cell_type": "markdown",
   "metadata": {},
   "source": [
    "3.- Dada la imagen 'deportes.png'\n",
    "\n",
    "Divida la imagen en la cantidad que considere adecuada.\n",
    "\n",
    "Con las imagenes generadas, cree nuevas imagenes que sean combinación de las anteriores (todas las combinaciones posibles).\n",
    "\n",
    "Guarde cada una de las imagenes generadas de la combinación."
   ]
  },
  {
   "cell_type": "code",
   "execution_count": 166,
   "metadata": {
    "metadata": {}
   },
   "outputs": [
    {
     "name": "stdout",
     "output_type": "stream",
     "text": [
      "1920 1080\n"
     ]
    }
   ],
   "source": [
    "# Leemos la imagen\n",
    "\n",
    "img = cv2.imread(\"deportes.png\")\n",
    "\n",
    "# Obtenemos las dimensiones de la imagen, esto con el atributo shape,filas,columnas y canales\n",
    "alto,largo,_canales = img.shape\n",
    "print(largo,alto)"
   ]
  },
  {
   "cell_type": "code",
   "execution_count": 167,
   "metadata": {
    "metadata": {}
   },
   "outputs": [],
   "source": [
    "#La imagen es de 1920x1080, con estas medidas vamos a crear imagenes nuevas calculando el ancho de cada tercio, \n",
    "#ya que la imagen son 3 deportes diferentes\n",
    "\n",
    "# Calculamos el ancho de cada tercio\n",
    "ancho_tercio = largo // 3\n",
    "\n",
    "# Obtenemos los píxeles de cada tercio horizontalmente\n",
    "tercio1 = img[0:alto, 0:ancho_tercio]\n",
    "tercio2 = img[0:alto, ancho_tercio:2*ancho_tercio]\n",
    "tercio3 = img[0:alto, 2*ancho_tercio:]\n",
    "\n"
   ]
  },
  {
   "cell_type": "code",
   "execution_count": 168,
   "metadata": {
    "metadata": {}
   },
   "outputs": [],
   "source": [
    "# Creamos una imagen compuesta\n",
    "imagen_compuesta = np.zeros((alto, largo, 3), np.uint8)\n",
    "\n",
    "# Asignamos los píxeles de cada tercio a la imagen compuesta en un orden diferente\n",
    "imagen_compuesta[0:alto, 0:ancho_tercio] = tercio3\n",
    "imagen_compuesta[0:alto, ancho_tercio:2*ancho_tercio] = tercio1\n",
    "imagen_compuesta[0:alto, 2*ancho_tercio:] = tercio2"
   ]
  },
  {
   "cell_type": "code",
   "execution_count": 169,
   "metadata": {
    "metadata": {}
   },
   "outputs": [],
   "source": [
    "# Mostrar imágenes\n",
    "cv2.namedWindow(\"Tercio1\", cv2.WINDOW_NORMAL)\n",
    "cv2.namedWindow(\"Tercio2\", cv2.WINDOW_NORMAL)\n",
    "cv2.namedWindow(\"Tercio3\", cv2.WINDOW_NORMAL)\n",
    "cv2.namedWindow(\"Compuesta\", cv2.WINDOW_NORMAL)\n",
    "cv2.imshow(\"Tercio1\", tercio1)\n",
    "cv2.imshow(\"Tercio2\", tercio2)\n",
    "cv2.imshow(\"Tercio3\", tercio3)\n",
    "cv2.imshow(\"Compuesta\", imagen_compuesta)\n",
    "\n",
    "cv2.waitKey(0)\n",
    "cv2.destroyAllWindows()"
   ]
  },
  {
   "cell_type": "code",
   "execution_count": 170,
   "metadata": {
    "metadata": {}
   },
   "outputs": [
    {
     "data": {
      "text/plain": [
       "True"
      ]
     },
     "execution_count": 170,
     "metadata": {},
     "output_type": "execute_result"
    }
   ],
   "source": [
    "# Guardar la imagen compuesta\n",
    "cv2.imwrite('imagenCompuesta.png', imagen_compuesta)"
   ]
  }
 ],
 "metadata": {
  "kernelspec": {
   "display_name": "base",
   "language": "python",
   "name": "python3"
  },
  "language_info": {
   "codemirror_mode": {
    "name": "ipython",
    "version": 3
   },
   "file_extension": ".py",
   "mimetype": "text/x-python",
   "name": "python",
   "nbconvert_exporter": "python",
   "pygments_lexer": "ipython3",
   "version": "3.11.5"
  }
 },
 "nbformat": 4,
 "nbformat_minor": 2
}
