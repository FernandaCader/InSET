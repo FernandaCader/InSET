{
 "cells": [
  {
   "cell_type": "markdown",
   "id": "3607264b",
   "metadata": {},
   "source": [
    "# ANA02: TP Ejercicios Introducción a OpenCV"
   ]
  },
  {
   "cell_type": "markdown",
   "id": "72a0f563",
   "metadata": {},
   "source": [
    "Para el siguiente trabajo utilizaré la libreria OpenCV, la cual se importa utilizando \"import cv2\", es una libreria que se usa para el procesamiento de imagenes con Python, puede realizar acciones com filtrado, deteccion de bordes, reconocimiento de caracteristicas, seguimiento de objetos, entre otras funciones."
   ]
  },
  {
   "cell_type": "markdown",
   "id": "ae9e2b4c",
   "metadata": {},
   "source": [
    "# Ejercicio 1: Carga y visualización de imágenes\n",
    "\n",
    "- Carge una imagen a color desde el sistema de archivos usando cv2.imread().\n",
    "- Muestra la imagen usando cv2.imshow().\n",
    "- Agrega un ciclo while que muestre la imagen hasta que se presione la tecla \"Esc\" (27) usando cv2.waitKey() y cierra la ventana usando cv2.destroyAllWindows()."
   ]
  },
  {
   "cell_type": "code",
   "execution_count": null,
   "id": "af400196",
   "metadata": {},
   "outputs": [],
   "source": [
    "import cv2\n",
    "\n",
    "# Leo mi imagen\n",
    "img = cv2.imread(\"paisaje.jpg\")\n",
    "cv2.imshow(\"Imagen\", img)  # Muestra la imagen en una ventana llamada \"Imagen\"\n",
    "\n",
    "while True:\n",
    "    key = cv2.waitKey(0)\n",
    "\n",
    "    if key == 27:  # Si se presiona la tecla \"Esc\"\n",
    "        break\n",
    "    \n",
    "cv2.destroyAllWindows()\n"
   ]
  },
  {
   "cell_type": "markdown",
   "id": "ef7b1e14",
   "metadata": {},
   "source": [
    "# Ejercicio 2: Conversión a escala de grises\n",
    "\n",
    "- Carge una imagen a color desde el sistema de archivos.\n",
    "- Convierte la imagen a escala de grises usando cv2.cvtColor().\n",
    "- Muestra la imagen en escala de grises y asegúrate de incluir el ciclo while con waitKey()."
   ]
  },
  {
   "cell_type": "code",
   "execution_count": null,
   "id": "c04ae106",
   "metadata": {},
   "outputs": [],
   "source": [
    "import cv2\n",
    "\n",
    "#Cargo la imagen de color desde la biblioteca\n",
    "img_pal = cv2.imread(\"pal.jpg\")\n",
    "\n",
    "#Convierto la imagen a grises\n",
    "img_gris = cv2.cvtColor(img_pal, cv2.COLOR_BGR2GRAY)\n",
    "\n",
    "#Mostrar la imagen en escala de grises\n",
    "cv2.imshow(\"Pal_gris\", img_gris)\n",
    "\n",
    "while True:\n",
    "    key = cv2.waitKey(0) #Esperamos a que el usuario presione una tecla\n",
    "\n",
    "    #Verificamos si la tecla presionada es Esc\n",
    "    if key == 27:\n",
    "\n",
    "        break #Salimos del bucle si se presiona Esc\n",
    "\n",
    "#Cerrar la ventana\n",
    "cv2.destroyAllWindows"
   ]
  },
  {
   "cell_type": "markdown",
   "id": "9cb59947",
   "metadata": {},
   "source": [
    "# Ejercicio 3: Cambio entre espacios de color\n",
    "\n",
    "- Carge una imagen a color desde el sistema de archivos.\n",
    "- Convierte la imagen a los espacios de color HSV y LAB usando cv2.cvtColor().\n",
    "- Muestra las imágenes en los espacios de color HSV y LAB en ventanas separadas usando cv2.imshow() y el ciclo while."
   ]
  },
  {
   "cell_type": "code",
   "execution_count": null,
   "id": "fe5631c7",
   "metadata": {},
   "outputs": [],
   "source": [
    "import cv2\n",
    "\n",
    "# Cargar una imagen a color desde el sistema de archivos\n",
    "pal = cv2.imread(\"pal.jpg\")\n",
    "\n",
    "# Convertir la imagen a los espacios de color HSV y LAB\n",
    "img_hsv = cv2.cvtColor(pal, cv2.COLOR_BGR2HSV)\n",
    "img_lab = cv2.cvtColor(pal, cv2.COLOR_BGR2LAB)\n",
    "\n",
    "# Mostrar las imágenes en ventanas separadas\n",
    "cv2.imshow(\"Imagen HSV\", img_hsv)\n",
    "cv2.imshow(\"Imagen LAB\", img_lab)\n",
    "\n",
    "# Ciclo para mantener las ventanas abiertas hasta que el usuario las cierre\n",
    "while True:\n",
    "    # Esperar a que el usuario presione una tecla\n",
    "    key = cv2.waitKey(0)\n",
    "    # Si el usuario presiona 'q', salir del ciclo\n",
    "    if key == ord(\"q\"):\n",
    "        break\n",
    "\n",
    "# Cerrar todas las ventanas\n",
    "cv2.destroyAllWindows()\n"
   ]
  },
  {
   "cell_type": "markdown",
   "id": "8e72122b",
   "metadata": {},
   "source": [
    "# Ejercicio 4: Conversión de imagen a escala de grises con tecla de activación\n",
    "\n",
    "- Cargue una imagen a color desde el sistema de archivos.\n",
    "- Muestra la imagen a color y espera a que se presione una tecla.\n",
    "- Si la tecla presionada es \"g\", convierte la imagen a escala de grises y muestra la imagen resultante.\n",
    "- Si la tecla presionada es \"q\", cierra la ventana y termina el programa."
   ]
  },
  {
   "cell_type": "code",
   "execution_count": 1,
   "id": "ae69bdcc",
   "metadata": {
    "metadata": {}
   },
   "outputs": [],
   "source": [
    "import cv2\n",
    "\n",
    "# Cargar una imagen a color desde el sistema de archivos\n",
    "img_color = cv2.imread(\"paisaje.jpg\")\n",
    "\n",
    "# Mostrar la imagen a color y esperar a que se presione una tecla\n",
    "cv2.imshow(\"Rio\", img_color)\n",
    "\n",
    "while True:\n",
    "        key = cv2.waitKey(0)\n",
    "\n",
    "# Verificar la tecla presionada\n",
    "        if key == ord(\"g\"):\n",
    "    # Convertir la imagen a escala de grises\n",
    "            img_grayscale = cv2.cvtColor(img_color, cv2.COLOR_BGR2GRAY)\n",
    "    # Mostrar la imagen en escala de grises\n",
    "            cv2.imshow(\"Rio_Gris\", img_grayscale)\n",
    "            cv2.waitKey(0)  # Esperar a que se presione una tecla antes de cerrar la ventana\n",
    "        elif key == ord(\"q\"):\n",
    "    # Si se presiona \"q\", salir del bucle\n",
    "            break\n",
    "\n",
    "# Cerrar la ventana y terminar el programa\n",
    "cv2.destroyAllWindows()"
   ]
  }
 ],
 "metadata": {
  "kernelspec": {
   "display_name": "Python 3 (ipykernel)",
   "language": "python",
   "name": "python3"
  },
  "language_info": {
   "codemirror_mode": {
    "name": "ipython",
    "version": 3
   },
   "file_extension": ".py",
   "mimetype": "text/x-python",
   "name": "python",
   "nbconvert_exporter": "python",
   "pygments_lexer": "ipython3",
   "version": "3.11.5"
  }
 },
 "nbformat": 4,
 "nbformat_minor": 5
}
