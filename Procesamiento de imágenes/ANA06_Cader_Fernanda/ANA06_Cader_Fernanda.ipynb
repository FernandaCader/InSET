{
 "cells": [
  {
   "cell_type": "markdown",
   "metadata": {},
   "source": [
    "ANA06 - Autor: Cader Fernanda\n",
    "\n",
    "Umbralización global: Aplica una umbralización global a tu imagen utilizando un valor de umbral fijo. Prueba con diferentes valores de umbral y observa cómo cambian los resultados."
   ]
  },
  {
   "cell_type": "markdown",
   "metadata": {},
   "source": [
    "Umbralización global"
   ]
  },
  {
   "cell_type": "code",
   "execution_count": 27,
   "metadata": {},
   "outputs": [],
   "source": [
    "import cv2 \n",
    "from matplotlib import pyplot as plt \n",
    "from matplotlib.offsetbox import AnchoredOffsetbox\n",
    "import numpy as np \n",
    "\n",
    "img = cv2.imread(\"monedas_arg.jpg\",0) \n",
    "#achicar imagen\n",
    "ancho=1000\n",
    "alto=600\n",
    "\n",
    "img = cv2.resize(img,(ancho, alto), cv2.INTER_CUBIC)\n",
    "\n",
    "#Guardar imagen achicada\n",
    "cv2.imwrite('monedas_chicas.jpg',img)\n",
    "\n",
    "#cv2.threshold(imagen, valor de umbral, valor máximo, tipo de algoritmo de umbral), devuelve el umbral establecido y la imagen binarizada\n",
    "\n",
    "_, th = cv2.threshold(img, 80, 255, cv2.THRESH_BINARY)\n",
    "\n",
    "cv2.imshow(\"Imagen Original\",img) \n",
    "cv2.imshow(\"Imagen Binarizada\", th)\n",
    "\n",
    "cv2.waitKey(0) \n",
    "cv2.destroyAllWindows()\n"
   ]
  },
  {
   "cell_type": "markdown",
   "metadata": {},
   "source": [
    "Umbralización adaptativa: Aplica una umbralización adaptativa a tu imagen utilizando los métodos de la media y gaussiano. Compara los resultados con los obtenidos en la umbralización global."
   ]
  },
  {
   "cell_type": "markdown",
   "metadata": {},
   "source": [
    "Umbralización adaptativa"
   ]
  },
  {
   "cell_type": "code",
   "execution_count": 22,
   "metadata": {},
   "outputs": [],
   "source": [
    "kernel = 3\n",
    "constante =2\n",
    "    \n",
    "cv2.namedWindow('Binarizada') ##creamos la ventana llamada binarizando\n",
    "img = cv2.imread(\"monedas_chicas.jpg\", 0) ##leemos la imagen coins.png como escala de grises y la guardamos en la variable img\n",
    "\n",
    "\n",
    "# Podemos aplicar una umbralización adaptativa gaussiana a la imagen de entrada y le pasamos los valores de kernel y constante\n",
    "umbralizada = cv2.adaptiveThreshold(img, 255,cv2.ADAPTIVE_THRESH_GAUSSIAN_C, cv2.THRESH_BINARY, kernel, constante)\n",
    "\n",
    "# o podemos aplicar una umbralización adaptativa de la media a la imagen de entrada y le pasamos los valores de kernel y constante\n",
    "#umbralizada = cv2.adaptiveThreshold(img, 255,cv2.ADAPTIVE_THRESH_MEAN_C, cv2.THRESH_BINARY, kernel, constante)\n",
    "\n",
    "cv2.imshow(\"Binarizada\", umbralizada)## mostamos la imagen umbralizada en la ventana binarizada\n",
    "\n",
    "cv2.waitKey(0) ##esperamos que se presione cualquier tecla\n",
    "cv2.destroyAllWindows() ##destruimos las ventanas de opencv"
   ]
  },
  {
   "cell_type": "markdown",
   "metadata": {},
   "source": [
    "Se puede observar la diferencia entre la umbralizacion global y adaptativa al ver la nitidez de las monedas en la adaptativa, es un método más refinado y con mayor eficacia."
   ]
  },
  {
   "cell_type": "markdown",
   "metadata": {},
   "source": [
    "Umbralización de Otsu"
   ]
  },
  {
   "cell_type": "code",
   "execution_count": 21,
   "metadata": {},
   "outputs": [
    {
     "data": {
      "image/png": "[encoded data removed]",
      "text/plain": [
       "<Figure size 640x480 with 1 Axes>"
      ]
     },
     "metadata": {},
     "output_type": "display_data"
    },
    {
     "name": "stdout",
     "output_type": "stream",
     "text": [
      "154.0\n"
     ]
    }
   ],
   "source": [
    "img = cv2.imread(\"monedas_chicas.jpg\",0)\n",
    "\n",
    "hist = cv2.calcHist([img], [0], None, [256], [0, 255])\n",
    "plt.hist(img.ravel(), 256, [0,255]) ## graficamos el histograma, .ravel nos devuelve la matriz en formato plano\n",
    "plt.show()\n",
    "\n",
    "# cv2.threshold(imagen, valor de umbral, valor máximo, tipo de algoritmo de umbral), devuelve el umbral establecido y la imagen binarizada\n",
    "\n",
    "umbral, th = cv2.threshold(img, 0, 255, cv2.THRESH_BINARY+cv2.THRESH_OTSU)\n",
    "print(umbral) #imprimimos el umbral calculado por el algoritmo de otsu\n",
    "# El cual será un histograma con dos picos.\n",
    "\n",
    "cv2.imshow(\"original\",img)\n",
    "cv2.imshow(\"binarizada\", th)\n",
    "\n",
    "cv2.waitKey(0)\n",
    "cv2.destroyAllWindows()"
   ]
  },
  {
   "cell_type": "markdown",
   "metadata": {},
   "source": [
    "La umbralización OTSU resaltará los valores en negro, es decir habra mayor presencia y picos de frecuencia en 250 siendo 0 el blanco y 250 el negro."
   ]
  },
  {
   "cell_type": "markdown",
   "metadata": {},
   "source": [
    "Umbralización de \"Truncar a Cero Invertido\""
   ]
  },
  {
   "cell_type": "code",
   "execution_count": 24,
   "metadata": {},
   "outputs": [],
   "source": [
    "import cv2\n",
    "import numpy as np\n",
    "\n",
    "# Carga la imagen en escala de grises\n",
    "img = cv2.imread('monedas_chicas.jpg', cv2.IMREAD_GRAYSCALE)\n",
    "\n",
    "# Define un valor de umbral\n",
    "thresh = 127\n",
    "\n",
    "# Aplica la umbralización de \"Truncar a Cero Invertido\"\n",
    "ret, thresh_img = cv2.threshold(img, thresh, 255, cv2.THRESH_TOZERO_INV)\n",
    "\n",
    "# Muestra la imagen original y la imagen umbralizada\n",
    "cv2.imshow('Imagen Original', img)\n",
    "cv2.imshow('Imagen Umbralizada', thresh_img)\n",
    "\n",
    "# Espera a que se presione una tecla y luego cierra las ventanas de las imágenes\n",
    "cv2.waitKey(0)\n",
    "cv2.destroyAllWindows()\n",
    "\n"
   ]
  },
  {
   "cell_type": "markdown",
   "metadata": {},
   "source": [
    "Se invierte el fondo, el cual era blanco, pasa a ser negro, y el detalle de las letras de las monedas es más significante."
   ]
  },
  {
   "cell_type": "markdown",
   "metadata": {},
   "source": [
    "Conclusiones\n",
    "\n",
    "El metodo que mejor funciono para mi imagen fue la umbralizacion global con un valor de umbral 80, el cual se puede ir modificando manualmente, es viable tambien como se ha enseñado en la clase, establecer una barra de desplazamiento para ir viendo cual es el valor ideal en base al resultado que esté buscando el usuario.\n",
    "\n",
    "Las dificultades que encontré en este trabajo fue cambiar de tamaño la imagen ya que en un principio la imagen era de 3508x1438 y no era viable para trabajarla y realizar las transformaciones pertinentes, luego ir probando los diferentes tipos de umbralizaciones y poder vislumbrar cuál de todas aquellas me permitia ver mejor el contenido de las monedas.\n",
    "\n",
    "Estas técnicas facilmente podrian ser aplicadas en seguridad, en cámaras de seguridad para discenir objetos de personas y ver actividad sospechosa en un banco. Otro lugar de aplicacion puede ser para la realizacion de una aplicación de edición de fotos."
   ]
  }
 ],
 "metadata": {
  "kernelspec": {
   "display_name": "base",
   "language": "python",
   "name": "python3"
  },
  "language_info": {
   "codemirror_mode": {
    "name": "ipython",
    "version": 3
   },
   "file_extension": ".py",
   "mimetype": "text/x-python",
   "name": "python",
   "nbconvert_exporter": "python",
   "pygments_lexer": "ipython3",
   "version": "3.11.5"
  }
 },
 "nbformat": 4,
 "nbformat_minor": 2
}
