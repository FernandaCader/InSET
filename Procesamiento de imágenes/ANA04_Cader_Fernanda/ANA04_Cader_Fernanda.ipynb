{
 "cells": [
  {
   "cell_type": "markdown",
   "metadata": {},
   "source": [
    "Ejercicio 1 - Traslación de una imagen.\n",
    "\n",
    "Cree una función en Python que tome una imagen y dos valores `x` e `y`, y devuelva la imagen trasladada `x` píxeles horizontalmente e `y` píxeles verticalmente."
   ]
  },
  {
   "cell_type": "code",
   "execution_count": 2,
   "metadata": {},
   "outputs": [],
   "source": [
    "import cv2\n",
    "import numpy as np\n",
    "\n",
    "# Cargar la imagen\n",
    "imagen = cv2.imread(\"arbol.jpg\")\n",
    "\n",
    "# Redimensionar la imagen (para efectos prácticos)\n",
    "imagen = cv2.resize(imagen, (100, 50))\n",
    "\n",
    "# Obtener las dimensiones de la imagen redimensionada\n",
    "alto, ancho, _ = imagen.shape\n",
    "\n",
    "# Definir la traslación en x e y\n",
    "tx = 10\n",
    "ty = 2\n",
    "\n",
    "# Crear la matriz de transformación para la traslación\n",
    "mT = np.array([[1, 0, tx], [0, 1, ty]], np.float32)\n",
    "\n",
    "# Aplicar la traslación a la imagen\n",
    "imagen_trasladada = cv2.warpAffine(imagen, mT, (ancho, alto))\n",
    "\n",
    "# Mostrar la imagen original y la imagen trasladada\n",
    "cv2.namedWindow(\"Original\", cv2.WINDOW_NORMAL)\n",
    "cv2.namedWindow(\"Trasladada\", cv2.WINDOW_NORMAL)\n",
    "cv2.imshow(\"Original\", imagen)\n",
    "cv2.imshow(\"Trasladada\", imagen_trasladada)\n",
    "cv2.waitKey(0)\n",
    "cv2.destroyAllWindows()\n"
   ]
  },
  {
   "cell_type": "markdown",
   "metadata": {},
   "source": [
    "Ejercicio 2 - Rotación de una imagen.\n",
    "\n",
    "Cree una función en Python que tome una imagen y un ángulo, y devuelva la imagen rotada en el ángulo dado."
   ]
  },
  {
   "cell_type": "code",
   "execution_count": 3,
   "metadata": {},
   "outputs": [],
   "source": [
    "import cv2\n",
    "import numpy as np\n",
    "\n",
    "# Cargar la imagen\n",
    "imagen = cv2.imread('perro.jpg')\n",
    "\n",
    "# Obtener las dimensiones de la imagen\n",
    "ancho = imagen.shape[1] # columnas\n",
    "alto = imagen.shape[0] # filas\n",
    "\n",
    "# Rotación\n",
    "M = cv2.getRotationMatrix2D((ancho//2, alto//2), 45, 1) # matriz de rotación, rotamos 45 grados\n",
    "imagen_rotada = cv2.warpAffine(imagen, M, (ancho, alto)) # rotamos la imagen\n",
    "\n",
    "# Mostrar la imagen original y la imagen rotada\n",
    "cv2.imshow('Imagen de entrada', imagen)\n",
    "cv2.imshow('Imagen de salida', imagen_rotada)\n",
    "cv2.waitKey(0)\n",
    "cv2.destroyAllWindows()\n"
   ]
  },
  {
   "cell_type": "markdown",
   "metadata": {},
   "source": [
    "Ejercicio 3 - Escalado de una imagen.\n",
    "\n",
    "Cree una función en Python que tome una imagen y dos factores de escala, `fx` y `fy`, y devuelva la imagen escalada por los factores dados."
   ]
  },
  {
   "cell_type": "code",
   "execution_count": 4,
   "metadata": {},
   "outputs": [],
   "source": [
    "import cv2\n",
    "\n",
    "def escalar_imagen(imagen, fx, fy):\n",
    "    # Escalar la imagen\n",
    "    imagen_escalada = cv2.resize(imagen, None, fx=fx, fy=fy, interpolation=cv2.INTER_LINEAR)\n",
    "    return imagen_escalada\n",
    "\n",
    "# Ejemplo de uso\n",
    "imagen = cv2.imread('gato.jpg')  # Cargar la imagen\n",
    "\n",
    "# Escalar la imagen por los factores 1.5 en ambas direcciones\n",
    "imagen_escalada = escalar_imagen(imagen, 1.5, 1.5)\n",
    "\n",
    "# Mostrar la imagen original y la imagen escalada\n",
    "cv2.imshow('Imagen original', imagen)\n",
    "cv2.imshow('Imagen escalada', imagen_escalada)\n",
    "cv2.waitKey(0)\n",
    "cv2.destroyAllWindows()\n"
   ]
  },
  {
   "cell_type": "markdown",
   "metadata": {},
   "source": [
    "Ejercicio 4 - Operaciones aritméticas con imágenes.\n",
    "\n",
    "Cree una función en Python que tome dos imágenes y realice las siguientes operaciones aritméticas: suma, resta, multiplicación y mezcla (ponderada). "
   ]
  },
  {
   "cell_type": "code",
   "execution_count": 6,
   "metadata": {},
   "outputs": [],
   "source": [
    "import cv2\n",
    "\n",
    "def operaciones_aritmeticas(imagen1, imagen2):\n",
    "    # Suma de imágenes\n",
    "    suma = cv2.add(imagen1, imagen2)\n",
    "\n",
    "    # Resta de imágenes\n",
    "    resta = cv2.subtract(imagen1, imagen2)\n",
    "\n",
    "    # Multiplicación de imágenes\n",
    "    multiplicacion = cv2.multiply(imagen1, imagen2)\n",
    "\n",
    "    # Mezcla ponderada de imágenes (alpha*imagen1 + beta*imagen2 + gamma)\n",
    "    alpha = 0.5\n",
    "    beta = 0.5\n",
    "    gamma = 0\n",
    "    mezcla_ponderada = cv2.addWeighted(imagen1, alpha, imagen2, beta, gamma)\n",
    "\n",
    "    return suma, resta, multiplicacion, mezcla_ponderada\n",
    "\n",
    "# Cargar las imágenes\n",
    "imagen1 = cv2.imread('perro.jpg')\n",
    "imagen2 = cv2.imread('gato.jpg')\n",
    "\n",
    "# Redimensionar las imágenes (opcional)\n",
    "imagen1 = cv2.resize(imagen1, (700, 500))\n",
    "imagen2 = cv2.resize(imagen2, (700, 500))\n",
    "\n",
    "# Realizar operaciones aritméticas\n",
    "suma, resta, multiplicacion, mezcla_ponderada = operaciones_aritmeticas(imagen1, imagen2)\n",
    "\n",
    "# Mostrar las imágenes y los resultados\n",
    "cv2.imshow('Imagen 1', imagen1)\n",
    "cv2.imshow('Imagen 2', imagen2)\n",
    "cv2.imshow('Suma', suma)\n",
    "cv2.imshow('Resta', resta)\n",
    "cv2.imshow('Multiplicacion', multiplicacion)\n",
    "cv2.imshow('Mezcla Ponderada', mezcla_ponderada)\n",
    "cv2.waitKey(0)\n",
    "cv2.destroyAllWindows()\n"
   ]
  },
  {
   "cell_type": "markdown",
   "metadata": {},
   "source": [
    "Ejercicio 5 - Aplicación de las operaciones.\n",
    "\n",
    "Utilizando las funciones creadas en los ejercicios anteriores, realice las siguientes tareas:\n",
    "\n",
    "Tome una imagen y aplíquele una traslación de 50 píxeles a la derecha y 100 píxeles hacia abajo.\n",
    "Rote la imagen resultante 45 grados.\n",
    "Escale la imagen resultante por un factor de 0.5 en ambas dimensiones.\n",
    "Suma la imagen resultante con la imagen original. Muestre y compare ambas imágenes."
   ]
  },
  {
   "cell_type": "code",
   "execution_count": 14,
   "metadata": {},
   "outputs": [],
   "source": [
    "import cv2\n",
    "import numpy as np\n",
    "\n",
    "# Función para aplicar una traslación a una imagen\n",
    "def trasladar_imagen(imagen, tx, ty):\n",
    "    filas, columnas, _ = imagen.shape\n",
    "    matriz_traslacion = np.float32([[1, 0, tx], [0, 1, ty]])\n",
    "    imagen_trasladada = cv2.warpAffine(imagen, matriz_traslacion, (columnas, filas))\n",
    "    return imagen_trasladada\n",
    "\n",
    "# Función para rotar una imagen\n",
    "def rotar_imagen(imagen, angulo):\n",
    "    filas, columnas, _ = imagen.shape\n",
    "    centro = (columnas // 2, filas // 2)\n",
    "    matriz_rotacion = cv2.getRotationMatrix2D(centro, angulo, 1)\n",
    "    imagen_rotada = cv2.warpAffine(imagen, matriz_rotacion, (columnas, filas))\n",
    "    return imagen_rotada\n",
    "\n",
    "# Función para escalar una imagen\n",
    "def escalar_imagen(imagen, fx, fy):\n",
    "    imagen_escalada = cv2.resize(imagen, None, fx=fx, fy=fy, interpolation=cv2.INTER_LINEAR)\n",
    "    return imagen_escalada\n",
    "\n",
    "# Leer la imagen original\n",
    "imagen_original = cv2.imread('monte.jpg')\n",
    "\n",
    "# Aplicar traslación de 50 píxeles a la derecha y 100 píxeles hacia abajo\n",
    "imagen_trasladada = trasladar_imagen(imagen_original, 50, 100)\n",
    "\n",
    "# Rotar la imagen resultante 45 grados\n",
    "imagen_rotada = rotar_imagen(imagen_trasladada, 45)\n",
    "\n",
    "# Escalar la imagen resultante por un factor de 0.5 en ambas dimensiones\n",
    "imagen_escalada = escalar_imagen(imagen_rotada, 0.5, 0.5)\n",
    "\n",
    "# Redimensionar la imagen original para que coincida con las dimensiones de la imagen escalada\n",
    "imagen_original_redimensionada = cv2.resize(imagen_original, (imagen_escalada.shape[1], imagen_escalada.shape[0]))\n",
    "\n",
    "# Sumar la imagen resultante con la imagen original redimensionada\n",
    "imagen_sumada = cv2.add(imagen_original_redimensionada, imagen_escalada)\n",
    "\n",
    "# Mostrar y comparar ambas imágenes\n",
    "cv2.imshow('Imagen Original', imagen_original_redimensionada)\n",
    "cv2.imshow('Imagen Sumada', imagen_sumada)\n",
    "cv2.waitKey(0)\n",
    "cv2.destroyAllWindows()\n",
    "\n"
   ]
  }
 ],
 "metadata": {
  "kernelspec": {
   "display_name": "base",
   "language": "python",
   "name": "python3"
  },
  "language_info": {
   "codemirror_mode": {
    "name": "ipython",
    "version": 3
   },
   "file_extension": ".py",
   "mimetype": "text/x-python",
   "name": "python",
   "nbconvert_exporter": "python",
   "pygments_lexer": "ipython3",
   "version": "3.11.5"
  }
 },
 "nbformat": 4,
 "nbformat_minor": 2
}
