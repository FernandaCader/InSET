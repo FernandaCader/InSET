{
 "cells": [
  {
   "cell_type": "markdown",
   "metadata": {},
   "source": [
    "ANA08 -  Autor Cader Fernanda\n",
    "\n",
    "En el siguiente trabajo se procederá a dar una descripción de los filtros faltantes y luego un ejemplo de aplicación de los mismos."
   ]
  },
  {
   "cell_type": "markdown",
   "metadata": {},
   "source": [
    "1. Filtro Prewitt: El operador Prewitt se utiliza en el procesamiento de imágenes, particularmente dentro de los algoritmos de detección de bordes. Técnicamente, es un operador de diferenciación discreto que calcula una aproximación del gradiente de la función de intensidad de la imagen. En cada punto de la imagen, el resultado del operador de Prewitt es el vector de gradiente correspondiente o la norma de este vector. El operador Prewitt se basa en convolucionar la imagen con un filtro pequeño, separable y de valor entero en direcciones horizontales y verticales."
   ]
  },
  {
   "cell_type": "code",
   "execution_count": 3,
   "metadata": {},
   "outputs": [],
   "source": [
    "import cv2\n",
    "import numpy as np\n",
    "\n",
    "img = cv2.imread('messi.jpg')\n",
    "gray = cv2.cvtColor(img, cv2.COLOR_BGR2GRAY)\n",
    "img_gaussian = cv2.GaussianBlur(gray,(3,3),0)\n",
    "\n",
    "#prewitt\n",
    "kernelx = np.array([[1,1,1],[0,0,0],[-1,-1,-1]])\n",
    "kernely = np.array([[-1,0,1],[-1,0,1],[-1,0,1]])\n",
    "img_prewittx = cv2.filter2D(img_gaussian, -1, kernelx)\n",
    "img_prewitty = cv2.filter2D(img_gaussian, -1, kernely)\n",
    "\n",
    "cv2.imshow(\"Original Image\", img)\n",
    "cv2.imshow(\"Prewitt X\", img_prewittx)\n",
    "cv2.imshow(\"Prewitt Y\", img_prewitty)\n",
    "cv2.imshow(\"Prewitt\", img_prewittx + img_prewitty)\n",
    "\n",
    "\n",
    "cv2.waitKey(0)\n",
    "cv2.destroyAllWindows()"
   ]
  },
  {
   "cell_type": "markdown",
   "metadata": {},
   "source": [
    "2. Filtro Roberts: El operador de Roberts se utiliza para la detección de bordes en una imagen. Detecta dos tipos de aristas: bordes horizontales y bordes verticales2. Los bordes se calculan utilizando la diferencia entre las intensidades de píxeles correspondientes de una imagen. Las máscaras utilizadas en este operador son:\n",
    "\n",
    "Gradiente fila:\n",
    "\n",
    "0  0\n",
    "0 -1\n",
    "\n",
    "Gradiente columna:\n",
    "\n",
    "-1 0\n",
    " 0 0\n",
    "\n",
    "Este operador obtiene buena respuesta ante bordes diagonales y ofrece buenas prestaciones en cuanto a localización. Sin embargo, es extremadamente sensible al ruido."
   ]
  },
  {
   "cell_type": "code",
   "execution_count": 4,
   "metadata": {},
   "outputs": [
    {
     "data": {
      "text/plain": [
       "True"
      ]
     },
     "execution_count": 4,
     "metadata": {},
     "output_type": "execute_result"
    }
   ],
   "source": [
    "import cv2  \n",
    "import numpy as np \n",
    "from scipy import ndimage \n",
    "  \n",
    "roberts_cross_v = np.array( [[1, 0 ], \n",
    "                             [0,-1 ]] ) \n",
    "  \n",
    "roberts_cross_h = np.array( [[ 0, 1 ], \n",
    "                             [ -1, 0 ]] ) \n",
    "  \n",
    "img = cv2.imread(\"gato.jpg\",0).astype('float64') \n",
    "img/=255.0\n",
    "vertical = ndimage.convolve( img, roberts_cross_v ) \n",
    "horizontal = ndimage.convolve( img, roberts_cross_h ) \n",
    "  \n",
    "edged_img = np.sqrt( np.square(horizontal) + np.square(vertical)) \n",
    "edged_img*=255\n",
    "cv2.imwrite(\"output.jpg\",edged_img)"
   ]
  },
  {
   "cell_type": "markdown",
   "metadata": {},
   "source": [
    "\n",
    "3. Filtro Laplaciano: El Laplaciano es un operador derivado; sus usos resaltan las discontinuidades del nivel de gris en una imagen e intentan restar importancia a las regiones con niveles de gris que varían lentamente3. En consecuencia, esta operación produce imágenes que tienen líneas de borde grisáceas y otras discontinuidades sobre un fondo oscuro."
   ]
  },
  {
   "cell_type": "code",
   "execution_count": 5,
   "metadata": {},
   "outputs": [],
   "source": [
    "import cv2\n",
    "import numpy as np\n",
    "# Load the image\n",
    "img = cv2.imread('perro.jpg', cv2.IMREAD_GRAYSCALE)\n",
    "# Apply the Laplacian filter\n",
    "laplacian = cv2.Laplacian(img, cv2.CV_64F)\n",
    "# Display the original and filtered image\n",
    "cv2.imshow('Original Image', img)\n",
    "cv2.imshow('Laplacian Filtered Image', laplacian)\n",
    "cv2.waitKey(0)\n",
    "cv2.destroyAllWindows()"
   ]
  }
 ],
 "metadata": {
  "kernelspec": {
   "display_name": "base",
   "language": "python",
   "name": "python3"
  },
  "language_info": {
   "codemirror_mode": {
    "name": "ipython",
    "version": 3
   },
   "file_extension": ".py",
   "mimetype": "text/x-python",
   "name": "python",
   "nbconvert_exporter": "python",
   "pygments_lexer": "ipython3",
   "version": "3.11.5"
  }
 },
 "nbformat": 4,
 "nbformat_minor": 2
}
